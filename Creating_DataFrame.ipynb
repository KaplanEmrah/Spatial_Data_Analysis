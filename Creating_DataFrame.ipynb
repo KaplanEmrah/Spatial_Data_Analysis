{
 "cells": [
  {
   "cell_type": "code",
   "execution_count": 1,
   "metadata": {
    "collapsed": false
   },
   "outputs": [],
   "source": [
    "import pandas as pd\n",
    "import datetime as dt\n",
    "import math\n",
    "\n",
    "Data = pd.read_csv('user3_gps.csv')\n",
    "D = Data[1:10000]\n",
    "DateTimeData = pd.to_datetime(D['RecordedDate'], dayfirst=True)\n",
    "Hour = DateTimeData.dt.time\n",
    "\n",
    "\n",
    "latitude = [i for i in D['latitude']]\n",
    "longitude = [i for i in D['longitude']]\n",
    "Mon = [1 if DateTimeData.dt.dayofweek[i]==0 else 0 for i in range(1, len(D)+1)]\n",
    "Tue = [1 if DateTimeData.dt.dayofweek[i]==1 else 0 for i in range(1, len(D)+1)]\n",
    "Wed = [1 if DateTimeData.dt.dayofweek[i]==2 else 0 for i in range(1, len(D)+1)]\n",
    "Thu = [1 if DateTimeData.dt.dayofweek[i]==3 else 0 for i in range(1, len(D)+1)]\n",
    "Fri = [1 if DateTimeData.dt.dayofweek[i]==4 else 0 for i in range(1, len(D)+1)]\n",
    "Sat = [1 if DateTimeData.dt.dayofweek[i]==5 else 0 for i in range(1, len(D)+1)]\n",
    "Sun = [1 if DateTimeData.dt.dayofweek[i]==6 else 0 for i in range(1, len(D)+1)]\n",
    "P1 = [1 if 0<=Hour[i].hour<3 else 0 for i in range(1, len(D)+1)]\n",
    "P2 = [1 if 3<=Hour[i].hour<6 else 0 for i in range(1, len(D)+1)]\n",
    "P3 = [1 if 6<=Hour[i].hour<9 else 0 for i in range(1, len(D)+1)]\n",
    "P4 = [1 if 9<=Hour[i].hour<12 else 0 for i in range(1, len(D)+1)]\n",
    "P5 = [1 if 12<=Hour[i].hour<15 else 0 for i in range(1, len(D)+1)]\n",
    "P6 = [1 if 15<=Hour[i].hour<18 else 0 for i in range(1, len(D)+1)]\n",
    "P7 = [1 if 18<=Hour[i].hour<21 else 0 for i in range(1, len(D)+1)]\n",
    "P8 = [1 if Hour[i].hour>=21 else 0 for i in range(1, len(D)+1)]\n",
    "LocID = [float(212) if math.isnan(i) else i for i in D['LocID']]\n",
    "tempLocID = [float(212) if math.isnan(i) else i for i in D['LocID']]\n",
    "Next = [tempLocID[i+1] if i < len(tempLocID)-2 else tempLocID[i] for i,j in enumerate(tempLocID)]\n",
    "\n",
    "my_dict = {\n",
    "    'latitude':latitude,\n",
    "    'longitude':longitude,\n",
    "    'Mon':Mon,\n",
    "    'Tue':Tue,\n",
    "    'Wed':Wed,\n",
    "    'Thu':Thu,\n",
    "    'Fri':Fri,\n",
    "    'Sat':Sat,\n",
    "    'Sun':Sun,\n",
    "    'P1':P1,\n",
    "    'P2':P2,\n",
    "    'P3':P3,\n",
    "    'P4':P4,\n",
    "    'P5':P5,\n",
    "    'P6':P6,\n",
    "    'P7':P7,\n",
    "    'P8':P8,\n",
    "    'LocID':LocID,\n",
    "    'Next':Next    \n",
    "}\n",
    "\n",
    "\n",
    "df = pd.DataFrame(my_dict)\n",
    "df.to_csv('user3_gps_DataFrame.csv')"
   ]
  },
  {
   "cell_type": "code",
   "execution_count": null,
   "metadata": {
    "collapsed": true
   },
   "outputs": [],
   "source": []
  }
 ],
 "metadata": {
  "kernelspec": {
   "display_name": "Python 2",
   "language": "python",
   "name": "python2"
  },
  "language_info": {
   "codemirror_mode": {
    "name": "ipython",
    "version": 2
   },
   "file_extension": ".py",
   "mimetype": "text/x-python",
   "name": "python",
   "nbconvert_exporter": "python",
   "pygments_lexer": "ipython2",
   "version": "2.7.13"
  }
 },
 "nbformat": 4,
 "nbformat_minor": 2
}

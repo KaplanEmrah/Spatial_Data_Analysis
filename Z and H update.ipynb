{
 "cells": [
  {
   "cell_type": "code",
   "execution_count": 1,
   "metadata": {
    "collapsed": false
   },
   "outputs": [
    {
     "name": "stdout",
     "output_type": "stream",
     "text": [
      "   index             DateTime   Latitude  Longitude\n",
      "0      0  2017-08-06 16:31:09  32.733327 -97.113758\n",
      "1      1  2017-08-06 16:20:07  32.733336 -97.113651\n",
      "2      2  2017-08-06 16:16:11  32.733144 -97.112573\n",
      "3      3  2017-08-06 16:13:12  32.733064 -97.112572\n",
      "4      4  2017-08-06 16:12:09  32.733649 -97.105925\n"
     ]
    }
   ],
   "source": [
    "def combiner(data):\n",
    "    max_latitude, max_longitude = max([abs(i[0]) for i in data]), max([abs(i[1]) for i in data])\n",
    "    max_number_bits = len(bin(int(max([max_latitude, max_longitude]) * 10 ** 7))) - 2 + 1\n",
    "    c = []\n",
    "    for value in data:\n",
    "        a, b = value\n",
    "        a_ve, b_ve = False, False\n",
    "        bin_a = bin(int(a*10**7))\n",
    "        bin_b = bin(int(b*10**7))\n",
    "        if bin_a[0] == '-':\n",
    "            a_ve = True\n",
    "            bin_a = bin_a[3:]\n",
    "        else:\n",
    "            bin_a = bin_a[2:]\n",
    "        if bin_b[0] == '-':\n",
    "            # print ('here')\n",
    "            b_ve = True\n",
    "            bin_b = bin_b[3:]\n",
    "        else:\n",
    "            bin_b = bin_b[2:]\n",
    "        difference1 = max_number_bits - len(bin_a)\n",
    "        difference2 = max_number_bits - len(bin_b)\n",
    "        if (difference1 > 0):\n",
    "            if a_ve == True:\n",
    "                bin_a = '1' + '0'*(difference1-1) + bin_a\n",
    "            else:\n",
    "                bin_a = '0'*(difference1) + bin_a\n",
    "        if (difference2 > 0):\n",
    "            if b_ve == True:\n",
    "                bin_b = '1' + '0'*(difference2-1) + bin_b\n",
    "            else:\n",
    "                bin_b = '0'*(difference2) + bin_b\n",
    "        temp = []\n",
    "        for i in range(len(bin_a)):\n",
    "            temp.append(bin_a[i])\n",
    "            temp.append(bin_b[i])\n",
    "        temp = ''.join(temp)\n",
    "        c.append(temp)\n",
    "    return c\n",
    "\n",
    "def hilbert_curve(c):\n",
    "    # print c\n",
    "    two_bit_list = [c[i:i + 2] for i in range(0, len(c), 2)]\n",
    "    # print two_bit_list\n",
    "    for i in range(len(two_bit_list)):\n",
    "        if two_bit_list[i] == '00':\n",
    "            two_bit_list[i] = '0'\n",
    "        if two_bit_list[i] == '01':\n",
    "            two_bit_list[i] = '1'\n",
    "        if two_bit_list[i] == '10':\n",
    "            two_bit_list[i] = '3'\n",
    "        if two_bit_list[i] == '11':\n",
    "            two_bit_list[i] = '2'\n",
    "#     print two_bit_list\n",
    "    a = two_bit_list\n",
    "    a = ''.join(a)\n",
    "    #a = '012345321'\n",
    "#     print a\n",
    "    if (a.find('0') >= 0):\n",
    "        a = a[:a.find('0') + 1] + a[a.find('0') + 1:].replace('1', '%temp%').replace('3', '1').replace('%temp%', '3')\n",
    "    #print a\n",
    "    if (a.find('3') >= 0):\n",
    "        a = a[:a.find('3') + 1] + a[a.find('3') + 1:].replace('0', '%temp%').replace('2', '0').replace('%temp%', '2')\n",
    "\n",
    "    # print a\n",
    "    new_list = []\n",
    "    for i in a:\n",
    "        new_list.append(i)\n",
    "    # print new_list\n",
    "    new_list = map(lambda x: bin(int(x)), new_list)\n",
    "    new_list = map(lambda x: x[2:], new_list)\n",
    "    # print new_list\n",
    "    maxi = 0\n",
    "    for i in new_list:\n",
    "\n",
    "        if (len(i) > maxi):\n",
    "            maxi = len(i)\n",
    "\n",
    "    # print maxi\n",
    "\n",
    "    for i in range(len(new_list)):\n",
    "        if (len(new_list[i]) < maxi):\n",
    "            difference = maxi - len(new_list[i])\n",
    "            new_list[i] = '0' * difference + new_list[i]\n",
    "\n",
    "    new_list = ''.join(new_list)\n",
    "    new_list=int(new_list,2)\n",
    "    #print new_list\n",
    "    return new_list\n",
    "\n",
    "import pandas as pd\n",
    "import sqlite3\n",
    "\n",
    "# Read sqlite query results into a pandas DataFrame\n",
    "con = sqlite3.connect(\"data/locations.db\")\n",
    "df = pd.read_sql_query(\"SELECT * from gpsdata\", con)\n",
    "\n",
    "# verify that result of SQL query is stored in the dataframe\n",
    "print(df.head())\n",
    "\n",
    "con.close()\n",
    "\n",
    "latlon = df[['Latitude', 'Longitude']]\n",
    "data = latlon.as_matrix()\n",
    "data = data.tolist()\n",
    "\n",
    "z = combiner(data)\n",
    "\n",
    "h = []\n",
    "for i in z:\n",
    "    h.append(hilbert_curve(i))"
   ]
  },
  {
   "cell_type": "code",
   "execution_count": 3,
   "metadata": {
    "collapsed": false
   },
   "outputs": [],
   "source": [
    "datetime = df['DateTime']\n",
    "Latitude = df['Latitude']\n",
    "Longitude = df['Longitude']"
   ]
  },
  {
   "cell_type": "code",
   "execution_count": 4,
   "metadata": {
    "collapsed": true
   },
   "outputs": [],
   "source": [
    "df = pd.DataFrame({'Latitude':Latitude, 'Longitude':Longitude,\n",
    "                   'DateTime':datetime, 'Z':z, 'H':h})\n",
    "\n",
    "df['DateTime'] = pd.to_datetime(df['DateTime'])\n",
    "\n",
    "conn=sqlite3.connect('data/locations.db')\n",
    "df.to_sql(name='gpsdata', con=conn, if_exists='replace')"
   ]
  },
  {
   "cell_type": "code",
   "execution_count": 5,
   "metadata": {
    "collapsed": false
   },
   "outputs": [
    {
     "data": {
      "text/plain": [
       "84814"
      ]
     },
     "execution_count": 5,
     "metadata": {},
     "output_type": "execute_result"
    }
   ],
   "source": [
    "len(h)"
   ]
  },
  {
   "cell_type": "code",
   "execution_count": null,
   "metadata": {
    "collapsed": true
   },
   "outputs": [],
   "source": []
  }
 ],
 "metadata": {
  "kernelspec": {
   "display_name": "Python 2",
   "language": "python",
   "name": "python2"
  },
  "language_info": {
   "codemirror_mode": {
    "name": "ipython",
    "version": 2
   },
   "file_extension": ".py",
   "mimetype": "text/x-python",
   "name": "python",
   "nbconvert_exporter": "python",
   "pygments_lexer": "ipython2",
   "version": "2.7.13"
  }
 },
 "nbformat": 4,
 "nbformat_minor": 2
}
